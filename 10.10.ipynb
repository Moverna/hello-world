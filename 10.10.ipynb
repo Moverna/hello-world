{
 "cells": [
  {
   "cell_type": "code",
   "execution_count": 2,
   "metadata": {},
   "outputs": [
    {
     "name": "stdout",
     "output_type": "stream",
     "text": [
      "Hello,word\n"
     ]
    }
   ],
   "source": [
    "print(\"Hello,%s\"%'word')"
   ]
  },
  {
   "cell_type": "code",
   "execution_count": 4,
   "metadata": {},
   "outputs": [
    {
     "name": "stdout",
     "output_type": "stream",
     "text": [
      "9=3*3\n",
      "9=3*3\n"
     ]
    }
   ],
   "source": [
    "x = 3\n",
    "print('{}={}*{}'.format(x*x,x,x))\n",
    "print('{1}={0}*{0}'.format(x,x*x))"
   ]
  },
  {
   "cell_type": "code",
   "execution_count": 8,
   "metadata": {},
   "outputs": [
    {
     "name": "stdout",
     "output_type": "stream",
     "text": [
      "my name is zcm,my age is 23\n",
      "my name is zcm,my age is 23\n"
     ]
    }
   ],
   "source": [
    "print('my name is {name},my age is {age}'.format(name='zcm',age=23))\n",
    "name = 'zcm'\n",
    "age = 23\n",
    "print(f'my name is {name},my age is {age}')"
   ]
  },
  {
   "cell_type": "code",
   "execution_count": 11,
   "metadata": {},
   "outputs": [
    {
     "name": "stdout",
     "output_type": "stream",
     "text": [
      "****************************************\n",
      "*             Hello,word!              *\n",
      "****************************************\n"
     ]
    }
   ],
   "source": [
    "print('*'*40)\n",
    "print('Hello,word!'.center(38).center(40,'*'))\n",
    "print('*'*40)\n"
   ]
  },
  {
   "cell_type": "code",
   "execution_count": 16,
   "metadata": {},
   "outputs": [
    {
     "name": "stdout",
     "output_type": "stream",
     "text": [
      "'\n"
     ]
    }
   ],
   "source": [
    "print('\\'')"
   ]
  },
  {
   "cell_type": "code",
   "execution_count": 18,
   "metadata": {},
   "outputs": [
    {
     "name": "stdout",
     "output_type": "stream",
     "text": [
      "please input a namewangwu\n",
      "80\n"
     ]
    }
   ],
   "source": [
    "names = ['zhangsan','lisi','wangwu','maliu']\n",
    "scores = [100,90,80,70]\n",
    "name = input('please input a name')\n",
    "print(scores[names.index(name)])"
   ]
  },
  {
   "cell_type": "code",
   "execution_count": null,
   "metadata": {},
   "outputs": [],
   "source": [
    "scores = {'zhangsan':100,'lisi':90,'wangwu':80,'maliu':70}\n",
    "name = input('please input a name')\n",
    "print(scores[name])"
   ]
  },
  {
   "cell_type": "code",
   "execution_count": null,
   "metadata": {},
   "outputs": [],
   "source": [
    "import random\n",
    "random.choice(name)"
   ]
  },
  {
   "cell_type": "code",
   "execution_count": 4,
   "metadata": {},
   "outputs": [
    {
     "name": "stdout",
     "output_type": "stream",
     "text": [
      "92\n"
     ]
    }
   ],
   "source": [
    "import random\n",
    "score = random.randint(0,100)\n",
    "print(score)"
   ]
  },
  {
   "cell_type": "code",
   "execution_count": 8,
   "metadata": {},
   "outputs": [
    {
     "name": "stdout",
     "output_type": "stream",
     "text": [
      "22 37 21 0 75 83 54 61 20 38 93 97 96 35 65 64 19 89 100 30 97 77 26 3 94 44 58 89 58 50 92 67 34 18 2 73 8 30 13 98 96 70 28 83 14 90 74 40 52 30 39 55 84 89 27 37 43 41 23 10 41 60 22 81 2 91 25 40 6 5 68 95 78 59 55 8 29 98 15 34 9 21 5 92 64 0 30 84 15 49 100 46 2 33 46 87 64 40 100 100 "
     ]
    }
   ],
   "source": [
    "#import random\n",
    "for i in range(0,100):\n",
    "    score = random.randint(0,100)\n",
    "    print(score,end=' ')"
   ]
  },
  {
   "cell_type": "code",
   "execution_count": 13,
   "metadata": {},
   "outputs": [
    {
     "name": "stdout",
     "output_type": "stream",
     "text": [
      "96 63 100 58 76 77 81 74 56 78 72 43 77 90 41 83 74 72 84 100 97 51 95 98 73 40 78 92 74 87 64 91 55 70 64 78 99 89 52 95 54 79 52 89 67 92 72 76 100 87 55 66 48 66 100 72 100 67 46 72 68 47 74 100 56 41 78 71 59 100 91 90 66 64 86 75 100 65 50 100 71 100 100 98 62 83 82 44 42 90 66 38 78 71 55 73 35 86 99 56 "
     ]
    }
   ],
   "source": [
    "\n",
    "import math\n",
    "for i in range(0,100):\n",
    "    score = math.ceil(random.gauss(75,20))\n",
    "    if score>100:score=100\n",
    "    elif score<0:score=0\n",
    "    print(score,end=' ')"
   ]
  },
  {
   "cell_type": "code",
   "execution_count": 15,
   "metadata": {},
   "outputs": [
    {
     "ename": "SyntaxError",
     "evalue": "invalid syntax (<ipython-input-15-7324ece8e80c>, line 7)",
     "output_type": "error",
     "traceback": [
      "\u001b[1;36m  File \u001b[1;32m\"<ipython-input-15-7324ece8e80c>\"\u001b[1;36m, line \u001b[1;32m7\u001b[0m\n\u001b[1;33m    for name in names;\u001b[0m\n\u001b[1;37m                     ^\u001b[0m\n\u001b[1;31mSyntaxError\u001b[0m\u001b[1;31m:\u001b[0m invalid syntax\n"
     ]
    }
   ],
   "source": [
    "#def create_random_score():\n",
    "  #  score =\n",
    "\n",
    "\n",
    "score_db = {}\n",
    "score_templates = {}.fromkeys(['Physics','Math','Python'])\n",
    "for name in names;\n",
    "    scores = score_template.copy()\n",
    "    \n",
    "    score = math.ceil(random.gauss(75,20))\n",
    "    if score>100:score=100\n",
    "    elif score<0:score=0\n",
    "    scores['Physics'] = score\n",
    "    \n",
    "    score = math.ceil(random.gauss(75,20))\n",
    "    if score>100:score=100\n",
    "    elif score<0:score=0\n",
    "    scores['Math'] = score\n",
    "    \n",
    "    score = math.ceil(random.gauss(75,20))\n",
    "    if score>100:score=100\n",
    "    elif score<0:score=0\n",
    "    scores['Python'] = score\n",
    "    \n",
    "    score_db[name]=scores\n",
    "print(score_db)"
   ]
  },
  {
   "cell_type": "code",
   "execution_count": null,
   "metadata": {},
   "outputs": [],
   "source": []
  }
 ],
 "metadata": {
  "kernelspec": {
   "display_name": "Python 3",
   "language": "python",
   "name": "python3"
  },
  "language_info": {
   "codemirror_mode": {
    "name": "ipython",
    "version": 3
   },
   "file_extension": ".py",
   "mimetype": "text/x-python",
   "name": "python",
   "nbconvert_exporter": "python",
   "pygments_lexer": "ipython3",
   "version": "3.6.5"
  }
 },
 "nbformat": 4,
 "nbformat_minor": 2
}
