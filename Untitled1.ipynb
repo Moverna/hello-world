{
 "cells": [
  {
   "cell_type": "code",
   "execution_count": 7,
   "metadata": {},
   "outputs": [
    {
     "name": "stdout",
     "output_type": "stream",
     "text": [
      "Please input an expression:[5*rosja]\n",
      "Match\n"
     ]
    }
   ],
   "source": [
    "\n",
    "expression = input('Please input an expression:')\n",
    "my_stack = list()\n",
    "left_quotes = ['{','[','(']\n",
    "right_quotes = ['}',']',')']\n",
    "\n",
    "for ch in expression:\n",
    "    if ch in left_quotes:\n",
    "        my_stack.append(ch)\n",
    "    elif ch in right_quotes:\n",
    "        if my_stack == []:\n",
    "            print('Not match')\n",
    "            break\n",
    "        else:\n",
    "            left_ch=my_stack.pop()\n",
    "            if(left_quotes.index(left_ch)!=right_quotes.index(ch)):\n",
    "                print('Not match')\n",
    "                break\n",
    "if my_stack !=[]:\n",
    "    print('Not match')\n",
    "else:\n",
    "    print('Match')"
   ]
  },
  {
   "cell_type": "code",
   "execution_count": 1,
   "metadata": {},
   "outputs": [
    {
     "data": {
      "text/plain": [
       "[1, 2, 3, [4, 5, 6]]"
      ]
     },
     "execution_count": 1,
     "metadata": {},
     "output_type": "execute_result"
    }
   ],
   "source": [
    "a=[1,2,3]\n",
    "a.append([4,5,6])\n",
    "a"
   ]
  },
  {
   "cell_type": "code",
   "execution_count": 2,
   "metadata": {},
   "outputs": [
    {
     "data": {
      "text/plain": [
       "[1, 2, 3, 4, 5, 6]"
      ]
     },
     "execution_count": 2,
     "metadata": {},
     "output_type": "execute_result"
    }
   ],
   "source": [
    "a=[1,2,3]\n",
    "a.extend([4,5,6])\n",
    "a"
   ]
  },
  {
   "cell_type": "code",
   "execution_count": 9,
   "metadata": {},
   "outputs": [
    {
     "name": "stdout",
     "output_type": "stream",
     "text": [
      "[0, 1, 2, 3, 4, 5]\n",
      "a after reverse(): [5, 4, 3, 2, 1, 0]\n"
     ]
    }
   ],
   "source": [
    "a = list(range(0,6))\n",
    "print(a)\n",
    "a.reverse()\n",
    "print('a after reverse():',a)"
   ]
  },
  {
   "cell_type": "code",
   "execution_count": 12,
   "metadata": {},
   "outputs": [
    {
     "name": "stdout",
     "output_type": "stream",
     "text": [
      "[1, 6, 5, 6, 5, 2, 1, 5, 5, 1, 2, 6, 6, 4, 2, 1, 4, 3, 6, 2]\n"
     ]
    }
   ],
   "source": [
    "import random\n",
    "a=list()\n",
    "for i in range(0,20):\n",
    "    a.append(random.randint(1,6))\n",
    "print(a)"
   ]
  },
  {
   "cell_type": "code",
   "execution_count": 13,
   "metadata": {},
   "outputs": [
    {
     "name": "stdout",
     "output_type": "stream",
     "text": [
      "1.33 ms ± 60.8 µs per loop (mean ± std. dev. of 7 runs, 1000 loops each)\n"
     ]
    }
   ],
   "source": [
    "%%timeit\n",
    "a= [None] * 10000\n",
    "for i in range(0,10000):\n",
    "    a[i]=i"
   ]
  },
  {
   "cell_type": "code",
   "execution_count": 14,
   "metadata": {},
   "outputs": [
    {
     "name": "stdout",
     "output_type": "stream",
     "text": [
      "1.86 ms ± 31.6 µs per loop (mean ± std. dev. of 7 runs, 1000 loops each)\n"
     ]
    }
   ],
   "source": [
    "%%timeit\n",
    "a=[]\n",
    "for i in range(0,10000):\n",
    "    a.append(i)"
   ]
  },
  {
   "cell_type": "code",
   "execution_count": 17,
   "metadata": {},
   "outputs": [
    {
     "name": "stdout",
     "output_type": "stream",
     "text": [
      "[10116, 9991, 9952, 10037, 9816, 10088]\n",
      "0.03\n"
     ]
    }
   ],
   "source": [
    "import random\n",
    "count = [0]*6\n",
    "for i in range(0,60000):\n",
    "    value=random.randint(1,6)\n",
    "    count[value-1]+=1\n",
    "    \n",
    "print(count)\n",
    "print((max(count)-min(count))*6/sum(count))"
   ]
  },
  {
   "cell_type": "code",
   "execution_count": 24,
   "metadata": {},
   "outputs": [
    {
     "name": "stdout",
     "output_type": "stream",
     "text": [
      "266 0.004433333333333333\n"
     ]
    }
   ],
   "source": [
    "import random\n",
    "count=0*6\n",
    "number_of_tests=60000\n",
    "last_three=[3,3,3]\n",
    "\n",
    "for i in range(0,number_of_tests):\n",
    "    last_three.append(random.randint(1,6))\n",
    "    last_three.pop(0)\n",
    "    if(last_three==[6,6,6]):\n",
    "        count+=1\n",
    "        \n",
    "print(count,count/number_of_tests)"
   ]
  },
  {
   "cell_type": "code",
   "execution_count": null,
   "metadata": {},
   "outputs": [],
   "source": []
  }
 ],
 "metadata": {
  "kernelspec": {
   "display_name": "Python 3",
   "language": "python",
   "name": "python3"
  },
  "language_info": {
   "codemirror_mode": {
    "name": "ipython",
    "version": 3
   },
   "file_extension": ".py",
   "mimetype": "text/x-python",
   "name": "python",
   "nbconvert_exporter": "python",
   "pygments_lexer": "ipython3",
   "version": "3.6.5"
  }
 },
 "nbformat": 4,
 "nbformat_minor": 2
}
